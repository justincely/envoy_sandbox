{
 "cells": [
  {
   "cell_type": "markdown",
   "metadata": {},
   "source": [
    "# Title\n",
    "\n",
    "## Pre-requisites\n",
    "\n",
    "\n",
    "\n",
    "## Setup\n",
    "\n",
    "`docker run -p 7080:8080 deciphernow/fail`"
   ]
  },
  {
   "cell_type": "code",
   "execution_count": 1,
   "metadata": {},
   "outputs": [],
   "source": [
    "import os\n",
    "import multiprocessing as mp\n",
    "import subprocess as sp\n",
    "import time\n",
    "from http import client\n",
    "import yaml\n",
    "\n",
    "import numpy as np\n",
    "\n",
    "import matplotlib.pyplot as plt\n",
    "plt.style.use('ggplot')"
   ]
  },
  {
   "cell_type": "code",
   "execution_count": 2,
   "metadata": {},
   "outputs": [],
   "source": [
    "def call(fail_rate=10):\n",
    "    \"\"\"Defines the work unit on an input file\"\"\"\n",
    "\n",
    "    host = \"localhost\"\n",
    "    port = \"80\"\n",
    "\n",
    "    fail_rate = int(fail_rate)\n",
    "    \n",
    "    c = client.HTTPConnection(host, 10000, timeout=10)\n",
    "    start = time.time()\n",
    "    c.request(\"GET\", \"/maybe/fail?rate={}\".format(fail_rate))\n",
    "    elapsed = time.time() - start\n",
    "\n",
    "    response = c.getresponse()\n",
    "    resp_body = response.read().decode(\"utf-8\")\n",
    "    \n",
    "    return response.code, elapsed"
   ]
  },
  {
   "cell_type": "code",
   "execution_count": 3,
   "metadata": {},
   "outputs": [],
   "source": [
    "def run_envoy():\n",
    "    \"\"\"Thingy\"\"\"\n",
    "    \n",
    "    proc = sp.Popen([\"./envoy\", \"-c\", \"config.yaml\"])\n",
    "    \n",
    "    return proc"
   ]
  },
  {
   "cell_type": "code",
   "execution_count": 24,
   "metadata": {},
   "outputs": [],
   "source": [
    "def set_num_retries(config, retries=1):\n",
    "    \"\"\"stuff\"\"\"\n",
    "    retry_policy = {\"retry_on\": \"5xx,reset\",\n",
    "                    \"num_retries\": retries}\n",
    "    \n",
    "    data = yaml.load(open(config).read())\n",
    "    \n",
    "    if retries == 0:\n",
    "        try: \n",
    "            del data[\"static_resources\"]['listeners'][0]['filter_chains'][0][\"filters\"][0]['typed_config']['route_config']['virtual_hosts'][0]['routes'][0]['route']['retry_policy']\n",
    "        except KeyError:\n",
    "            pass\n",
    "    else: \n",
    "        data[\"static_resources\"]['listeners'][0]['filter_chains'][0][\"filters\"][0]['typed_config']['route_config']['virtual_hosts'][0]['routes'][0]['route']['retry_policy'] = retry_policy\n",
    "        \n",
    "    with open(config, 'w') as output:\n",
    "        output.write(yaml.dump(data))"
   ]
  },
  {
   "cell_type": "code",
   "execution_count": 63,
   "metadata": {},
   "outputs": [],
   "source": [
    "def run(retries, fail_rate=10, n_trials=10000):\n",
    "    set_num_retries(\"./config.yaml\", retries)\n",
    "    proc = run_envoy()\n",
    "    time.sleep(2)\n",
    "    \n",
    "    \n",
    "    start = time.time()\n",
    "    pool = mp.Pool(processes=2)\n",
    "    data = pool.map(call, fail_rate * np.ones(n_trials))\n",
    "    elapsed = time.time() - start\n",
    "\n",
    "    success = len([item for item in data if item[0] == 200])\n",
    "    error = len([item for item in data if item[0] != 200])\n",
    "\n",
    "    print(\"Client Error:         {}/{}: {}%\".format(error, success, 100*error/(success+error)))\n",
    "\n",
    "    envoy_success = int(os.popen(\"\"\"curl localhost:9901/stats | grep cluster.service.upstream_rq_2xx | cut -d\":\" -f 2\"\"\").read().strip() or 0)\n",
    "    envoy_error = int(os.popen(\"\"\"curl localhost:9901/stats | grep cluster.service.upstream_rq_5xx | cut -d\":\" -f 2\"\"\").read().strip() or 0)\n",
    "    envoy_retries = int(os.popen(\"\"\"curl localhost:9901/stats | grep cluster.service.upstream_rq_retry: | cut -d\":\" -f 2\"\"\").read().strip() or 0)\n",
    "    \n",
    "    req_med = np.median([item[1] for item in data])\n",
    "    req_std = np.std([item[1] for item in data])\n",
    "    req_max = np.max([item[1] for item in data])\n",
    "    \n",
    "    print(\"Envoy Stats Error:    {}/{}: {}%\".format(envoy_error, envoy_success, 100*envoy_error/(envoy_success+envoy_error)))\n",
    "    print(\"Envoy Stats N Retry: \", envoy_retries)\n",
    "    print(\"Time, Total:          {:.2f}s\".format(elapsed))\n",
    "    print(\"Time, Median:         {:.6f}s\".format(req_med))\n",
    "    print(\"Time, Std:            {:.6f}s\".format(req_std))\n",
    "    print(\"Time, Max:            {:.6f}s\".format(req_max))\n",
    "\n",
    "    \n",
    "    proc.kill()\n",
    "    time.sleep(2)\n",
    "    \n",
    "    return data"
   ]
  },
  {
   "cell_type": "code",
   "execution_count": 64,
   "metadata": {},
   "outputs": [
    {
     "name": "stdout",
     "output_type": "stream",
     "text": [
      "Client Error:         3067/6933: 30.67%\n",
      "Envoy Stats Error:    29972/70028: 29.972%\n",
      "Envoy Stats N Retry:  0\n",
      "Time, Total:          4.69s\n",
      "Time, Median:         0.000453s\n",
      "Time, Std:            0.000304s\n",
      "Time, Max:            0.008817s\n"
     ]
    }
   ],
   "source": [
    "data = run(0, fail_rate=30, n_trials=10000)"
   ]
  },
  {
   "cell_type": "code",
   "execution_count": 65,
   "metadata": {},
   "outputs": [
    {
     "name": "stdout",
     "output_type": "stream",
     "text": [
      "Client Error:         2924/7076: 29.24%\n",
      "Envoy Stats Error:    32896/77104: 29.905454545454546%\n",
      "Envoy Stats N Retry:  0\n",
      "Time, Total:          4.79s\n",
      "Time, Median:         0.000462s\n",
      "Time, Std:            0.000326s\n",
      "Time, Max:            0.015428s\n"
     ]
    }
   ],
   "source": [
    "data1 = run(1, fail_rate=30, n_trials=10000)"
   ]
  },
  {
   "cell_type": "code",
   "execution_count": 66,
   "metadata": {},
   "outputs": [
    {
     "name": "stdout",
     "output_type": "stream",
     "text": [
      "Client Error:         2952/7048: 29.52%\n",
      "Envoy Stats Error:    35848/84152: 29.873333333333335%\n",
      "Envoy Stats N Retry:  0\n",
      "Time, Total:          4.69s\n",
      "Time, Median:         0.000463s\n",
      "Time, Std:            0.000275s\n",
      "Time, Max:            0.004310s\n"
     ]
    }
   ],
   "source": [
    "data2 = run(2, fail_rate=30, n_trials=10000)"
   ]
  },
  {
   "cell_type": "code",
   "execution_count": 68,
   "metadata": {},
   "outputs": [
    {
     "name": "stdout",
     "output_type": "stream",
     "text": [
      "Client Error:         92/9908: 0.92%\n",
      "Envoy Stats Error:    92/9908: 0.92%\n",
      "Envoy Stats N Retry:  4077\n",
      "Time, Total:          56.80s\n",
      "Time, Median:         0.000610s\n",
      "Time, Std:            0.000371s\n",
      "Time, Max:            0.006233s\n",
      "CPU times: user 830 ms, sys: 1.17 s, total: 2 s\n",
      "Wall time: 1min\n"
     ]
    }
   ],
   "source": [
    "%%time\n",
    "# 3 Retries\n",
    "\n",
    "data3 = run(3, fail_rate=30, n_trials=10000)"
   ]
  },
  {
   "cell_type": "code",
   "execution_count": 41,
   "metadata": {},
   "outputs": [
    {
     "data": {
      "image/png": "[encoded data removed]",
      "text/plain": [
       "<Figure size 720x504 with 4 Axes>"
      ]
     },
     "metadata": {},
     "output_type": "display_data"
    }
   ],
   "source": [
    "fig = plt.figure(figsize=(10, 7))\n",
    "fig.suptitle(\"Request Times for 0-3 Retries\")\n",
    "x_min = 0\n",
    "x_max = 3*np.median([item[1] for item in data2])\n",
    "\n",
    "ax = fig.add_subplot(4, 1, 1)\n",
    "_ = ax.hist([item[1] for item in data if item[0] == 200], bins=200, color='g', alpha=.5, label=\"2xx\")\n",
    "_ = ax.hist([item[1] for item in data if item[0] != 200], bins=200, color='r', alpha=.5, label=\"5xx\")\n",
    "_ = ax.axvline(np.median([item[1] for item in data]), color='k', label=\"Median Time\")\n",
    "#_ = ax.set_xlim((x_min, x_max))\n",
    "_ = ax.set_ylabel(\"0 Retries\")\n",
    "_ = ax.legend()\n",
    "                \n",
    "ax1 = fig.add_subplot(4, 1, 2)\n",
    "_ = ax1.hist([item[1] for item in data1 if item[0] == 200], bins=200, color='g', alpha=.5)\n",
    "_ = ax1.hist([item[1] for item in data1 if item[0] != 200], bins=200, color='r', alpha=.5)\n",
    "_ = ax1.axvline(np.median([item[1] for item in data1]), color='k')\n",
    "_ = ax1.set_ylabel(\"1 Retries\")\n",
    "#_ = ax1.set_xlim((x_min, x_max))\n",
    "\n",
    "ax2 = fig.add_subplot(4, 1, 3)\n",
    "_ = ax2.hist([item[1] for item in data2 if item[0] == 200], bins=200, color='g', alpha=.5)\n",
    "_ = ax2.hist([item[1] for item in data2 if item[0] != 200], bins=200, color='r', alpha=.5)\n",
    "_ = ax2.axvline(np.median([item[1] for item in data2]), color='k')\n",
    "_ = ax2.set_ylabel(\"2 Retries\")\n",
    "#_ = ax2.set_xlim((x_min, x_max))\n",
    "\n",
    "ax3 = fig.add_subplot(4, 1, 4)\n",
    "_ = ax3.hist([item[1] for item in data3 if item[0] == 200], bins=200, color='g', alpha=.5)\n",
    "_ = ax3.hist([item[1] for item in data3 if item[0] != 200], bins=200, color='r', alpha=.5)\n",
    "_ = ax3.axvline(np.median([item[1] for item in data3]), color='k')\n",
    "_ = ax3.set_xlim((x_min, x_max))\n",
    "_ = ax3.set_xlabel(\"\")\n",
    "_ = ax3.set_ylabel(\"3 Retries\")\n",
    "#_ = ax3.set_xlabel(\"Time (s)\")\n",
    "\n",
    "fig.savefig(\"retry_histograms.png\", dpi=300)"
   ]
  },
  {
   "cell_type": "code",
   "execution_count": 11,
   "metadata": {},
   "outputs": [
    {
     "name": "stdout",
     "output_type": "stream",
     "text": [
      "183/19817, 0.915\n",
      "N 2xx:  cluster.service.upstream_rq_2xx: 19817\n",
      "N 5xx:  cluster.service.upstream_rq_5xx: 183\n",
      "N Retry:  cluster.service.upstream_rq_retry: 0\n",
      "1 0 0.915\n",
      "4/19996, 0.02\n",
      "N 2xx:  cluster.service.upstream_rq_2xx: 19996\n",
      "N 5xx:  cluster.service.upstream_rq_5xx: 4\n",
      "N Retry:  cluster.service.upstream_rq_retry: 188\n",
      "1 1 0.02\n",
      "0/20000, 0.0\n",
      "N 2xx:  cluster.service.upstream_rq_2xx: 20000\n",
      "N 5xx:  \n",
      "N Retry:  cluster.service.upstream_rq_retry: 221\n",
      "1 2 0.0\n",
      "0/20000, 0.0\n",
      "N 2xx:  cluster.service.upstream_rq_2xx: 20000\n",
      "N 5xx:  \n",
      "N Retry:  cluster.service.upstream_rq_retry: 217\n",
      "1 3 0.0\n",
      "0/20000, 0.0\n",
      "N 2xx:  cluster.service.upstream_rq_2xx: 20000\n",
      "N 5xx:  \n",
      "N Retry:  cluster.service.upstream_rq_retry: 177\n",
      "1 4 0.0\n",
      "0/20000, 0.0\n",
      "N 2xx:  cluster.service.upstream_rq_2xx: 20000\n",
      "N 5xx:  \n",
      "N Retry:  cluster.service.upstream_rq_retry: 191\n",
      "1 5 0.0\n",
      "1008/18992, 5.04\n",
      "N 2xx:  cluster.service.upstream_rq_2xx: 18992\n",
      "N 5xx:  cluster.service.upstream_rq_5xx: 1008\n",
      "N Retry:  cluster.service.upstream_rq_retry: 0\n",
      "5 0 5.04\n",
      "59/19941, 0.295\n",
      "N 2xx:  cluster.service.upstream_rq_2xx: 19941\n",
      "N 5xx:  cluster.service.upstream_rq_5xx: 59\n",
      "N Retry:  cluster.service.upstream_rq_retry: 1024\n",
      "5 1 0.295\n",
      "1/19999, 0.005\n",
      "N 2xx:  cluster.service.upstream_rq_2xx: 19999\n",
      "N 5xx:  cluster.service.upstream_rq_5xx: 1\n",
      "N Retry:  cluster.service.upstream_rq_retry: 1047\n",
      "5 2 0.005\n",
      "0/20000, 0.0\n",
      "N 2xx:  cluster.service.upstream_rq_2xx: 20000\n",
      "N 5xx:  \n",
      "N Retry:  cluster.service.upstream_rq_retry: 1117\n",
      "5 3 0.0\n",
      "0/20000, 0.0\n",
      "N 2xx:  cluster.service.upstream_rq_2xx: 20000\n",
      "N 5xx:  \n",
      "N Retry:  cluster.service.upstream_rq_retry: 1094\n",
      "5 4 0.0\n",
      "0/20000, 0.0\n",
      "N 2xx:  cluster.service.upstream_rq_2xx: 20000\n",
      "N 5xx:  \n",
      "N Retry:  cluster.service.upstream_rq_retry: 1111\n",
      "5 5 0.0\n",
      "1971/18029, 9.855\n",
      "N 2xx:  cluster.service.upstream_rq_2xx: 18029\n",
      "N 5xx:  cluster.service.upstream_rq_5xx: 1971\n",
      "N Retry:  cluster.service.upstream_rq_retry: 0\n",
      "10 0 9.855\n",
      "219/19781, 1.095\n",
      "N 2xx:  cluster.service.upstream_rq_2xx: 19781\n",
      "N 5xx:  cluster.service.upstream_rq_5xx: 219\n",
      "N Retry:  cluster.service.upstream_rq_retry: 2039\n",
      "10 1 1.095\n",
      "22/19978, 0.11\n",
      "N 2xx:  cluster.service.upstream_rq_2xx: 19978\n",
      "N 5xx:  cluster.service.upstream_rq_5xx: 22\n",
      "N Retry:  cluster.service.upstream_rq_retry: 2142\n",
      "10 2 0.11\n",
      "3/19997, 0.015\n",
      "N 2xx:  cluster.service.upstream_rq_2xx: 19997\n",
      "N 5xx:  cluster.service.upstream_rq_5xx: 3\n",
      "N Retry:  cluster.service.upstream_rq_retry: 2173\n",
      "10 3 0.015\n",
      "0/20000, 0.0\n",
      "N 2xx:  cluster.service.upstream_rq_2xx: 20000\n",
      "N 5xx:  \n",
      "N Retry:  cluster.service.upstream_rq_retry: 2208\n",
      "10 4 0.0\n",
      "0/20000, 0.0\n",
      "N 2xx:  cluster.service.upstream_rq_2xx: 20000\n",
      "N 5xx:  \n",
      "N Retry:  cluster.service.upstream_rq_retry: 2270\n",
      "10 5 0.0\n",
      "3046/16954, 15.23\n",
      "N 2xx:  cluster.service.upstream_rq_2xx: 16954\n",
      "N 5xx:  cluster.service.upstream_rq_5xx: 3046\n",
      "N Retry:  cluster.service.upstream_rq_retry: 0\n",
      "15 0 15.23\n",
      "452/19548, 2.26\n",
      "N 2xx:  cluster.service.upstream_rq_2xx: 19548\n",
      "N 5xx:  cluster.service.upstream_rq_5xx: 452\n",
      "N Retry:  cluster.service.upstream_rq_retry: 3041\n",
      "15 1 2.26\n",
      "74/19926, 0.37\n",
      "N 2xx:  cluster.service.upstream_rq_2xx: 19926\n",
      "N 5xx:  cluster.service.upstream_rq_5xx: 74\n",
      "N Retry:  cluster.service.upstream_rq_retry: 3467\n",
      "15 2 0.37\n",
      "5/19995, 0.025\n",
      "N 2xx:  cluster.service.upstream_rq_2xx: 19995\n",
      "N 5xx:  cluster.service.upstream_rq_5xx: 5\n",
      "N Retry:  cluster.service.upstream_rq_retry: 3610\n",
      "15 3 0.025\n",
      "3/19997, 0.015\n",
      "N 2xx:  cluster.service.upstream_rq_2xx: 19997\n",
      "N 5xx:  cluster.service.upstream_rq_5xx: 3\n",
      "N Retry:  cluster.service.upstream_rq_retry: 3478\n",
      "15 4 0.015\n",
      "0/20000, 0.0\n",
      "N 2xx:  cluster.service.upstream_rq_2xx: 20000\n",
      "N 5xx:  \n",
      "N Retry:  cluster.service.upstream_rq_retry: 3439\n",
      "15 5 0.0\n",
      "3951/16049, 19.755\n",
      "N 2xx:  cluster.service.upstream_rq_2xx: 16049\n",
      "N 5xx:  cluster.service.upstream_rq_5xx: 3951\n",
      "N Retry:  cluster.service.upstream_rq_retry: 0\n",
      "20 0 19.755\n",
      "841/19159, 4.205\n",
      "N 2xx:  cluster.service.upstream_rq_2xx: 19159\n",
      "N 5xx:  cluster.service.upstream_rq_5xx: 841\n",
      "N Retry:  cluster.service.upstream_rq_retry: 4046\n",
      "20 1 4.205\n",
      "164/19836, 0.82\n",
      "N 2xx:  cluster.service.upstream_rq_2xx: 19836\n",
      "N 5xx:  cluster.service.upstream_rq_5xx: 164\n",
      "N Retry:  cluster.service.upstream_rq_retry: 4927\n",
      "20 2 0.82\n",
      "21/19979, 0.105\n",
      "N 2xx:  cluster.service.upstream_rq_2xx: 19979\n",
      "N 5xx:  cluster.service.upstream_rq_5xx: 21\n",
      "N Retry:  cluster.service.upstream_rq_retry: 4834\n",
      "20 3 0.105\n",
      "5/19995, 0.025\n",
      "N 2xx:  cluster.service.upstream_rq_2xx: 19995\n",
      "N 5xx:  cluster.service.upstream_rq_5xx: 5\n",
      "N Retry:  cluster.service.upstream_rq_retry: 5001\n",
      "20 4 0.025\n",
      "2/19998, 0.01\n",
      "N 2xx:  cluster.service.upstream_rq_2xx: 19998\n",
      "N 5xx:  cluster.service.upstream_rq_5xx: 2\n",
      "N Retry:  cluster.service.upstream_rq_retry: 4835\n",
      "20 5 0.01\n",
      "CPU times: user 15.1 s, sys: 11.8 s, total: 27 s\n",
      "Wall time: 29min 50s\n"
     ]
    }
   ],
   "source": [
    "%%time \n",
    "\n",
    "n_retries = [0, 1, 2, 3, 4, 5]\n",
    "fail_rate = [1, 5, 10, 15, 20]\n",
    "\n",
    "outputs = {}\n",
    "\n",
    "for r in fail_rate:\n",
    "    if not r in outputs:\n",
    "        outputs[r] = {\"x\": [], \"y\": []}\n",
    "    for n in n_retries:\n",
    "        data = run(n, r, 20000)\n",
    "        success = len([item for item in data if item[0] == 200])\n",
    "        error = len([item for item in data if item[0] != 200])\n",
    "        print(r, n, 100*error/(success+error))\n",
    "        outputs[r][\"x\"].append(n)\n",
    "        outputs[r][\"y\"].append(100*error/(success+error))"
   ]
  },
  {
   "cell_type": "code",
   "execution_count": 37,
   "metadata": {},
   "outputs": [
    {
     "data": {
      "text/plain": [
       "Text(0.5, 0.98, 'Failure Rate vs N Retries')"
      ]
     },
     "execution_count": 37,
     "metadata": {},
     "output_type": "execute_result"
    },
    {
     "data": {
      "image/png": "[encoded data removed]",
      "text/plain": [
       "<Figure size 720x504 with 1 Axes>"
      ]
     },
     "metadata": {},
     "output_type": "display_data"
    }
   ],
   "source": [
    "norm = plt.Normalize()\n",
    "colors = plt.cm.jet(norm(4*list(fail_rate)))\n",
    "\n",
    "fig = plt.figure(figsize=(10, 7))\n",
    "ax = fig.add_subplot(1, 1, 1)\n",
    "fig.suptitle(\"Failure Rate vs N Retries (modeled)\")\n",
    "_ = ax.set_title(\"\")\n",
    "_ = ax.set_ylabel(\"Client Failure Rate\")\n",
    "_ = ax.set_xlabel(\"N Retries\")\n",
    "#_ = ax.set_yscale(\"log\")\n",
    "_ = ax.set_ylim((0, 22))\n",
    "\n",
    "rates = outputs.keys()\n",
    "for item in sorted(rates):\n",
    "    line = plt.plot(outputs[item]['x'], outputs[item]['y'], 'o-', label=item/100)\n",
    "    x_model = np.linspace(min(outputs[item]['x']), max(outputs[item]['x']), 100)\n",
    "    y_model = expected_failure(item/100, x_model) * item\n",
    "    #plt.plot(x_model, y_model, alpha=.5, color=line[0].get_color(), ls='--')\n",
    "ax.legend(title=\"Service Fail Rate\")\n",
    "\n",
    "fig.savefig(\"fail_rates_n.png\", dpi=300)\n",
    "fig.suptitle(\"Failure Rate vs N Retries\")\n",
    "\n",
    "#fig.savefig(\"fail_rates_n_modeled.png\", dpi=300)\n",
    "#fig.suptitle(\"Failure Rate vs N Retries (modeled)\")\n"
   ]
  },
  {
   "cell_type": "code",
   "execution_count": 15,
   "metadata": {},
   "outputs": [],
   "source": [
    "def expected_failure(fail_rate, n_retries):\n",
    "    return fail_rate**n_retries"
   ]
  },
  {
   "cell_type": "code",
   "execution_count": 16,
   "metadata": {},
   "outputs": [],
   "source": [
    "def retries_needed(success_rate, fail_rate):\n",
    "    return np.log(1-fail)/np.log(fail_rate)"
   ]
  },
  {
   "cell_type": "code",
   "execution_count": null,
   "metadata": {},
   "outputs": [],
   "source": []
  }
 ],
 "metadata": {
  "kernelspec": {
   "display_name": "Python 3",
   "language": "python",
   "name": "python3"
  },
  "language_info": {
   "codemirror_mode": {
    "name": "ipython",
    "version": 3
   },
   "file_extension": ".py",
   "mimetype": "text/x-python",
   "name": "python",
   "nbconvert_exporter": "python",
   "pygments_lexer": "ipython3",
   "version": "3.5.6"
  }
 },
 "nbformat": 4,
 "nbformat_minor": 2
}
